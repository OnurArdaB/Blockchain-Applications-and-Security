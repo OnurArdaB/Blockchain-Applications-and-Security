{
  "nbformat": 4,
  "nbformat_minor": 0,
  "metadata": {
    "colab": {
      "name": "transactions.ipynb",
      "provenance": [],
      "collapsed_sections": []
    },
    "kernelspec": {
      "name": "python3",
      "display_name": "Python 3"
    }
  },
  "cells": [
    {
      "cell_type": "markdown",
      "metadata": {
        "id": "ozl83oWPt3SX",
        "colab_type": "text"
      },
      "source": [
        "#Bitcoin Transactions with Python Bitcoinlib\n",
        "\n",
        "In this notebook, you will create transactions in Bitcoin test network.\n",
        "\n",
        "While writing corresponding python statements, you may want to read  the related chapter(s) in Mastering Bitcoin or the resources below. \n",
        "\n",
        "1. Bitcoin Script: https://en.bitcoin.it/wiki/Script\n",
        "2. Bitcoin Transaction Format: https://en.bitcoin.it/wiki/Transaction\n",
        "3. Python-bitcoin docs: https://media.readthedocs.org/pdf/python-bitcoinlib/latest/python-bitcoinlib.pdf"
      ]
    },
    {
      "cell_type": "markdown",
      "metadata": {
        "id": "XuQSG7dnuzZL",
        "colab_type": "text"
      },
      "source": [
        "Lets first install **python-bitcoinlib** which we will use to connect to the Bitcoin network and to generate a public-private key pair."
      ]
    },
    {
      "cell_type": "code",
      "metadata": {
        "id": "AZ8205Z0teKT",
        "colab_type": "code",
        "outputId": "b093f478-cc69-4199-96ec-8d01aed58c13",
        "colab": {
          "base_uri": "https://localhost:8080/",
          "height": 207
        }
      },
      "source": [
        "!pip install python-bitcoinlib\n",
        "!pip install requests"
      ],
      "execution_count": 0,
      "outputs": [
        {
          "output_type": "stream",
          "text": [
            "Collecting python-bitcoinlib\n",
            "\u001b[?25l  Downloading https://files.pythonhosted.org/packages/80/1d/691b78c682e29f51bd2229cb8c9232dfb1bf692c1a496745ca324bd60f44/python_bitcoinlib-0.10.2-py3-none-any.whl (96kB)\n",
            "\r\u001b[K     |███▍                            | 10kB 16.8MB/s eta 0:00:01\r\u001b[K     |██████▉                         | 20kB 2.2MB/s eta 0:00:01\r\u001b[K     |██████████▏                     | 30kB 3.2MB/s eta 0:00:01\r\u001b[K     |█████████████▋                  | 40kB 2.1MB/s eta 0:00:01\r\u001b[K     |█████████████████               | 51kB 2.5MB/s eta 0:00:01\r\u001b[K     |████████████████████▍           | 61kB 3.0MB/s eta 0:00:01\r\u001b[K     |███████████████████████▉        | 71kB 3.5MB/s eta 0:00:01\r\u001b[K     |███████████████████████████▎    | 81kB 4.0MB/s eta 0:00:01\r\u001b[K     |██████████████████████████████▋ | 92kB 4.4MB/s eta 0:00:01\r\u001b[K     |████████████████████████████████| 102kB 3.8MB/s \n",
            "\u001b[?25hInstalling collected packages: python-bitcoinlib\n",
            "Successfully installed python-bitcoinlib-0.10.2\n",
            "Requirement already satisfied: requests in /usr/local/lib/python3.6/dist-packages (2.21.0)\n",
            "Requirement already satisfied: idna<2.9,>=2.5 in /usr/local/lib/python3.6/dist-packages (from requests) (2.8)\n",
            "Requirement already satisfied: chardet<3.1.0,>=3.0.2 in /usr/local/lib/python3.6/dist-packages (from requests) (3.0.4)\n",
            "Requirement already satisfied: urllib3<1.25,>=1.21.1 in /usr/local/lib/python3.6/dist-packages (from requests) (1.24.3)\n",
            "Requirement already satisfied: certifi>=2017.4.17 in /usr/local/lib/python3.6/dist-packages (from requests) (2019.9.11)\n"
          ],
          "name": "stdout"
        }
      ]
    },
    {
      "cell_type": "markdown",
      "metadata": {
        "id": "ytyClq4bvLMU",
        "colab_type": "text"
      },
      "source": [
        "Lets create a Bitcoin address and accompanying private key for ourselves with the code below. "
      ]
    },
    {
      "cell_type": "code",
      "metadata": {
        "id": "I-e8oa2LvK1Q",
        "colab_type": "code",
        "outputId": "03329477-b34c-4a99-bd00-98acefcdcc21",
        "colab": {
          "base_uri": "https://localhost:8080/",
          "height": 51
        }
      },
      "source": [
        "from os import urandom\n",
        "from bitcoin import SelectParams\n",
        "from bitcoin.wallet import CBitcoinSecret, P2PKHBitcoinAddress\n",
        "\n",
        "SelectParams('testnet')\n",
        "\n",
        "seckey = CBitcoinSecret.from_secret_bytes(urandom(32))\n",
        "\n",
        "print(\"Private key: %s\" % seckey)\n",
        "print(\"Address: %s\" %P2PKHBitcoinAddress.from_pubkey(seckey.pub))"
      ],
      "execution_count": 0,
      "outputs": [
        {
          "output_type": "stream",
          "text": [
            "Private key: cQh9SATDjNdPhJioC7bghbyQmNzvHA9MtViY7W3Rg1TiGPNuU3PZ\n",
            "Address: mo2F93cvEtRafTCbuTiXv9D13nJJ9KBaWi\n"
          ],
          "name": "stdout"
        }
      ]
    },
    {
      "cell_type": "markdown",
      "metadata": {
        "id": "vPwxBNKjwN9q",
        "colab_type": "text"
      },
      "source": [
        "Now with this address, we can get free testnet coins from the coin faucet. Click [here](https://coinfaucet.eu/en/btc-testnet/) to get some free coins on the *Bitcoin test network*. Note that it is a nice thing to send back the bitcoin's you got to the faucet. \n",
        "\n",
        "Once you click the button, a transaction, which is a P2PKH transaction, will be generated and sent to the Bitcoin Test network (by the faucet). One of the outputs of this transaction will be for your Public Key Hash. That output will be our main UTXO to spend. "
      ]
    },
    {
      "cell_type": "markdown",
      "metadata": {
        "id": "4Rl612UewXyb",
        "colab_type": "text"
      },
      "source": [
        "Here is a sample output. Since your address is different your coins will be sent to a different address.\n",
        "\n",
        "```\n",
        "We sent 0.12133031 bitcoins to address\n",
        "mnjD9piZu9DTkoeCMGPQSookMTqL7DBPod\n",
        "\n",
        "tx: ae2d8d7d78fb0c56582a76816a5dcdda14f945413b49ef97455b5fbf5d952be0\n",
        "Send coins back, when you don't need them anymore to the address\n",
        "\n",
        "mv4rnyY3Su5gjcDNzbMLKBQkBicCtHUtFB```\n",
        "\n",
        "You can see the transaction details by checking all the transactions for your account by typing the correct address in this [web-page](https://live.blockcypher.com/btc-testnet/address/mnjD9piZu9DTkoeCMGPQSookMTqL7DBPod/).\n",
        "\n",
        "Before continuing, lets configure our Python environment with our public and private key pair. This is nothing fancy; we just set some variables' values to be used later in the codes and the exercises in the rest of this notebook. \n",
        "\n",
        "Note that we will use the same bitcoin address, the one we created above, to correctly configure our environment. "
      ]
    },
    {
      "cell_type": "code",
      "metadata": {
        "id": "n6vyRlH5yBd3",
        "colab_type": "code",
        "outputId": "1a6ecaa4-ad6f-4466-89d9-d83fbf1e2a6f",
        "colab": {
          "base_uri": "https://localhost:8080/",
          "height": 51
        }
      },
      "source": [
        "from bitcoin import SelectParams\n",
        "from bitcoin.base58 import decode\n",
        "from bitcoin.wallet import CBitcoinAddress, CBitcoinSecret, P2PKHBitcoinAddress\n",
        "\n",
        "#This says that we will connect to testnet, not the actual Bitcoin network\n",
        "SelectParams('testnet')\n",
        "\n",
        "#This is my private key. You need to add yours here\n",
        "my_private_key = CBitcoinSecret('cQh9SATDjNdPhJioC7bghbyQmNzvHA9MtViY7W3Rg1TiGPNuU3PZ') \n",
        "\n",
        "#As you see, we do not explicitly see the public key  anywhere. We do not need to see it. \n",
        "#The elliptic curve operations are handled in the background. Your private key\n",
        "#is in fact a scalar which will be multiplied with a point on the curve to obtain\n",
        "#the public key (note: elliptic curve discrete logarithm problem).\n",
        "my_public_key = my_private_key.pub \n",
        "\n",
        "#With P2PKHBitcoinAddress's from_pubkey function, we can obtain our address. \n",
        "my_address = P2PKHBitcoinAddress.from_pubkey(my_public_key)\n",
        "\n",
        "#This is the address of the faucet (a Bitcoin Test account) which we will \n",
        "#send our money back during/after the exercises. \n",
        "faucet_address = CBitcoinAddress('mv4rnyY3Su5gjcDNzbMLKBQkBicCtHUtFB') \n",
        "\n",
        "print(\"Private key: %s\" % my_private_key)\n",
        "print(\"Address: %s\" %P2PKHBitcoinAddress.from_pubkey(my_private_key.pub))"
      ],
      "execution_count": 0,
      "outputs": [
        {
          "output_type": "stream",
          "text": [
            "Private key: cQh9SATDjNdPhJioC7bghbyQmNzvHA9MtViY7W3Rg1TiGPNuU3PZ\n",
            "Address: mo2F93cvEtRafTCbuTiXv9D13nJJ9KBaWi\n"
          ],
          "name": "stdout"
        }
      ]
    },
    {
      "cell_type": "markdown",
      "metadata": {
        "id": "0aZ7ykGF1P3O",
        "colab_type": "text"
      },
      "source": [
        "The first thing we will do will be splitting the UTXO obtained from the faucet into multiple UTXOs. We may do mistakes, spend an UTXO in an unlockable manner and lose some of our test coins. So it is a good exercise to split the only UTXO we have.  "
      ]
    },
    {
      "cell_type": "markdown",
      "metadata": {
        "id": "m3F-gS6HXKFy",
        "colab_type": "text"
      },
      "source": [
        "Lets run the **split_coins** function below with the transaction we obtained from the faucet.  The code is given below: You do not need to change the **split_coins** function. However, you need to add the UTXO information we obtained from the faucet at the end.\n",
        "\n",
        "You can check the status of the outputs in the original faucet transaction from BlockCypher (as I do it [here](https://live.blockcypher.com/btc-testnet/tx/1adee36659bc7268d33b3d90ebc7c7cf807f363f11a572076b3a3aa9845342d1/)). Before running the code below it must be *unspent*. Read the code and try to understand what it does by matching what we have learned in the class with the statements below.\n",
        "\n",
        "If you do everything correctly, at the end, you need to get a response with code 201. That is, you will see something like \n",
        "```\n",
        "201 Created\n",
        "{\n",
        "  \"tx\": {\n",
        "        ....\n",
        "  }\n",
        "}\n",
        " ```\n",
        "at the beginning of the output. And after some time, depending on the fee you give to the miners, the UTXO you used will appear as spent. Fortunately,  you have many more now to be used in the exercises. "
      ]
    },
    {
      "cell_type": "code",
      "metadata": {
        "id": "mXD87qc2yJOm",
        "colab_type": "code",
        "outputId": "33784a2c-c9e3-4c4d-ee7d-e90ffc781440",
        "colab": {
          "base_uri": "https://localhost:8080/",
          "height": 1000
        }
      },
      "source": [
        "import requests\n",
        "\n",
        "from bitcoin.core import b2x, lx, COIN, COutPoint, CMutableTxOut, CMutableTxIn, CMutableTransaction, Hash160\n",
        "from bitcoin.core.script import *\n",
        "from bitcoin.core.scripteval import VerifyScript, SCRIPT_VERIFY_P2SH\n",
        "\n",
        "def create_OP_CHECKSIG_signature(tx, txin_scriptPubKey, seckey):\n",
        "    #We want no parts of the transaction to be changed.\n",
        "    #Hence, we hash all the transaction before signing it (i.e.: SIGHASH_ALL). \n",
        "    sighash = SignatureHash(txin_scriptPubKey, tx, 0, SIGHASH_ALL)\n",
        "    signature = seckey.sign(sighash) + bytes([SIGHASH_ALL])\n",
        "    return signature\n",
        "\n",
        "def broadcast_transaction(tx):\n",
        "    raw_transaction = b2x(tx.serialize())\n",
        "    headers = {'content-type': 'application/x-www-form-urlencoded'}\n",
        "    return requests.post(\n",
        "        'https://api.blockcypher.com/v1/btc/test3/txs/push',\n",
        "        headers=headers,\n",
        "        data='{\"tx\": \"%s\"}' % raw_transaction)\n",
        "\n",
        "#What we simply do in this transaction is splitting. We spent the faucet output and\n",
        "#split the amount into n pieces each is again to our addresses in a P2PKH structure.\n",
        "def split_coins(amount_to_send, txid_to_spend, utxo_index, n):\n",
        "    #We are creating a transaction with a single input and n outputs.\n",
        "    \n",
        "    #txin is the input part of the transaction \n",
        "    txin_scriptPubKey = my_address.to_scriptPubKey() #initial UTXO was for my address so we need to use it as scriptPubKey \n",
        "    txin = CMutableTxIn(COutPoint(lx(txid_to_spend), utxo_index)) #now we have txin\n",
        "    #The function lx() onverts a little-endian hex string to bytes\n",
        "    #The COutPoint is the combination of a transaction hash and an index n into its vout as we have discussed in the lecture\n",
        "    \n",
        "    #This transaction's outputs are all for myself - so the default P2PKH script\n",
        "    #[OP_DUP OP_HASH160 <pubKeyHash> OP_EQUALVERIFY OP_CHECKSIG] must be the scriptPubKey\n",
        "    #The function to_scriptPubKey automatically generates this script from a P2PKHBitcoinAddress\n",
        "    #Note that the script contains a base16 encoded version of checksummed/modified byte58 encoded address (This operation is reversible!).\n",
        "    txout_scriptPubKey = my_address.to_scriptPubKey() \n",
        "    \n",
        "    #txout is a single output. (IMP: the function CScript which you use for the first time serializes the script created above)\n",
        "    txout = CMutableTxOut((amount_to_send / n) * COIN, CScript(txout_scriptPubKey)) #amount and address are given here\n",
        "\n",
        "    #This is the whole transaction we will broadcast\n",
        "    #Note the [txout]*n in the parameters of CMutableTransaction function\n",
        "    tx = CMutableTransaction([txin], [txout] * n)\n",
        "    \n",
        "    #Now lets sign the transaction to keep its integrity\n",
        "    sig = create_OP_CHECKSIG_signature(tx, txin_scriptPubKey, my_private_key)\n",
        "    #We need to create the unlocking script which is [signature, encoded SIGHASH_ALL] + PublicKey\n",
        "    txin.scriptSig = CScript([sig, my_public_key])  \n",
        "    \n",
        "    #Lets validate if the script is correctly generated... \n",
        "    #This function raises a ValidationError subclass if the validation fails\n",
        "    VerifyScript(txin.scriptSig, txin_scriptPubKey, tx, 0, (SCRIPT_VERIFY_P2SH,))\n",
        "   \n",
        "    #Broadcast the transaction\n",
        "    response = broadcast_transaction(tx)\n",
        "    print(response.status_code, response.reason)\n",
        "    print(response.text)\n",
        "\n",
        "#The mount of BTC in the output you're splitting minus fee.\n",
        "#Warning: In the test network, fees are required. They can be small but since this\n",
        "#is an exercise, you can be generous\n",
        "amount_to_send = 0.036 \n",
        "\n",
        "#This must be the transaction id you have from the faucet's transaction\n",
        "txid_to_spend = ('7af130117949e948972b2118a4e8bd40762a58e6b5ab31513363370e2335cb95')\n",
        "\n",
        "#the output UTXO location in the transaction from faucet (mine is 1, but maybe yours is 0)\n",
        "utxo_index = 1 \n",
        "\n",
        "#number of transactions to be splitted\n",
        "n = 12 \n",
        "######################################################################\n",
        "\n",
        "split_coins(amount_to_send, txid_to_spend, utxo_index, n)"
      ],
      "execution_count": 0,
      "outputs": [
        {
          "output_type": "stream",
          "text": [
            "201 Created\n",
            "{\n",
            "  \"tx\": {\n",
            "    \"block_height\": -1,\n",
            "    \"block_index\": -1,\n",
            "    \"hash\": \"4cce54daf7f92da317b5b3f42900410326f51358b91139542f54aec6c2e651a1\",\n",
            "    \"addresses\": [\n",
            "      \"mo2F93cvEtRafTCbuTiXv9D13nJJ9KBaWi\"\n",
            "    ],\n",
            "    \"total\": 3599988,\n",
            "    \"fees\": 34394,\n",
            "    \"size\": 566,\n",
            "    \"preference\": \"high\",\n",
            "    \"relayed_by\": \"35.222.162.148\",\n",
            "    \"received\": \"2019-11-30T09:17:41.52387281Z\",\n",
            "    \"ver\": 1,\n",
            "    \"double_spend\": false,\n",
            "    \"vin_sz\": 1,\n",
            "    \"vout_sz\": 12,\n",
            "    \"confirmations\": 0,\n",
            "    \"inputs\": [\n",
            "      {\n",
            "        \"prev_hash\": \"7af130117949e948972b2118a4e8bd40762a58e6b5ab31513363370e2335cb95\",\n",
            "        \"output_index\": 1,\n",
            "        \"script\": \"483045022100c8e8731f9b25003747fc6d8d35f35f79fcfab7c07ae059b53ddf981d386f73c30220617cca2392f4468f7ecd9106b210a2bb716e980a27a84fedd5b805e80a0fd71201210327f738cd5b5ef73db8456caec9f6e0794051ff97ab1afaa94545ead83df5bef1\",\n",
            "        \"output_value\": 3634382,\n",
            "        \"sequence\": 4294967295,\n",
            "        \"addresses\": [\n",
            "          \"mo2F93cvEtRafTCbuTiXv9D13nJJ9KBaWi\"\n",
            "        ],\n",
            "        \"script_type\": \"pay-to-pubkey-hash\",\n",
            "        \"age\": 1610424\n",
            "      }\n",
            "    ],\n",
            "    \"outputs\": [\n",
            "      {\n",
            "        \"value\": 299999,\n",
            "        \"script\": \"76a9145253012e8bf90ab7152b8c216a0c6ad9d917513c88ac\",\n",
            "        \"addresses\": [\n",
            "          \"mo2F93cvEtRafTCbuTiXv9D13nJJ9KBaWi\"\n",
            "        ],\n",
            "        \"script_type\": \"pay-to-pubkey-hash\"\n",
            "      },\n",
            "      {\n",
            "        \"value\": 299999,\n",
            "        \"script\": \"76a9145253012e8bf90ab7152b8c216a0c6ad9d917513c88ac\",\n",
            "        \"addresses\": [\n",
            "          \"mo2F93cvEtRafTCbuTiXv9D13nJJ9KBaWi\"\n",
            "        ],\n",
            "        \"script_type\": \"pay-to-pubkey-hash\"\n",
            "      },\n",
            "      {\n",
            "        \"value\": 299999,\n",
            "        \"script\": \"76a9145253012e8bf90ab7152b8c216a0c6ad9d917513c88ac\",\n",
            "        \"addresses\": [\n",
            "          \"mo2F93cvEtRafTCbuTiXv9D13nJJ9KBaWi\"\n",
            "        ],\n",
            "        \"script_type\": \"pay-to-pubkey-hash\"\n",
            "      },\n",
            "      {\n",
            "        \"value\": 299999,\n",
            "        \"script\": \"76a9145253012e8bf90ab7152b8c216a0c6ad9d917513c88ac\",\n",
            "        \"addresses\": [\n",
            "          \"mo2F93cvEtRafTCbuTiXv9D13nJJ9KBaWi\"\n",
            "        ],\n",
            "        \"script_type\": \"pay-to-pubkey-hash\"\n",
            "      },\n",
            "      {\n",
            "        \"value\": 299999,\n",
            "        \"script\": \"76a9145253012e8bf90ab7152b8c216a0c6ad9d917513c88ac\",\n",
            "        \"addresses\": [\n",
            "          \"mo2F93cvEtRafTCbuTiXv9D13nJJ9KBaWi\"\n",
            "        ],\n",
            "        \"script_type\": \"pay-to-pubkey-hash\"\n",
            "      },\n",
            "      {\n",
            "        \"value\": 299999,\n",
            "        \"script\": \"76a9145253012e8bf90ab7152b8c216a0c6ad9d917513c88ac\",\n",
            "        \"addresses\": [\n",
            "          \"mo2F93cvEtRafTCbuTiXv9D13nJJ9KBaWi\"\n",
            "        ],\n",
            "        \"script_type\": \"pay-to-pubkey-hash\"\n",
            "      },\n",
            "      {\n",
            "        \"value\": 299999,\n",
            "        \"script\": \"76a9145253012e8bf90ab7152b8c216a0c6ad9d917513c88ac\",\n",
            "        \"addresses\": [\n",
            "          \"mo2F93cvEtRafTCbuTiXv9D13nJJ9KBaWi\"\n",
            "        ],\n",
            "        \"script_type\": \"pay-to-pubkey-hash\"\n",
            "      },\n",
            "      {\n",
            "        \"value\": 299999,\n",
            "        \"script\": \"76a9145253012e8bf90ab7152b8c216a0c6ad9d917513c88ac\",\n",
            "        \"addresses\": [\n",
            "          \"mo2F93cvEtRafTCbuTiXv9D13nJJ9KBaWi\"\n",
            "        ],\n",
            "        \"script_type\": \"pay-to-pubkey-hash\"\n",
            "      },\n",
            "      {\n",
            "        \"value\": 299999,\n",
            "        \"script\": \"76a9145253012e8bf90ab7152b8c216a0c6ad9d917513c88ac\",\n",
            "        \"addresses\": [\n",
            "          \"mo2F93cvEtRafTCbuTiXv9D13nJJ9KBaWi\"\n",
            "        ],\n",
            "        \"script_type\": \"pay-to-pubkey-hash\"\n",
            "      },\n",
            "      {\n",
            "        \"value\": 299999,\n",
            "        \"script\": \"76a9145253012e8bf90ab7152b8c216a0c6ad9d917513c88ac\",\n",
            "        \"addresses\": [\n",
            "          \"mo2F93cvEtRafTCbuTiXv9D13nJJ9KBaWi\"\n",
            "        ],\n",
            "        \"script_type\": \"pay-to-pubkey-hash\"\n",
            "      },\n",
            "      {\n",
            "        \"value\": 299999,\n",
            "        \"script\": \"76a9145253012e8bf90ab7152b8c216a0c6ad9d917513c88ac\",\n",
            "        \"addresses\": [\n",
            "          \"mo2F93cvEtRafTCbuTiXv9D13nJJ9KBaWi\"\n",
            "        ],\n",
            "        \"script_type\": \"pay-to-pubkey-hash\"\n",
            "      },\n",
            "      {\n",
            "        \"value\": 299999,\n",
            "        \"script\": \"76a9145253012e8bf90ab7152b8c216a0c6ad9d917513c88ac\",\n",
            "        \"addresses\": [\n",
            "          \"mo2F93cvEtRafTCbuTiXv9D13nJJ9KBaWi\"\n",
            "        ],\n",
            "        \"script_type\": \"pay-to-pubkey-hash\"\n",
            "      }\n",
            "    ]\n",
            "  }\n",
            "}\n"
          ],
          "name": "stdout"
        }
      ]
    },
    {
      "cell_type": "markdown",
      "metadata": {
        "id": "KSBMpekZat9M",
        "colab_type": "text"
      },
      "source": [
        "Lets spend some of the small UTXOs and send it back to the **faucet**. Make it complete, run, and be sure that you have the correct output with code *201 Created*.\n"
      ]
    },
    {
      "cell_type": "code",
      "metadata": {
        "id": "n_bjZd63YLFh",
        "colab_type": "code",
        "outputId": "75d6578a-136f-4e64-fada-d718543b27f6",
        "colab": {
          "base_uri": "https://localhost:8080/",
          "height": 836
        }
      },
      "source": [
        "from bitcoin.core.script import *\n",
        "\n",
        "# TODO: Complete this script to unlock the BTC that was sent to you\n",
        "# in the PayToPublicKeyHash transaction. You may need to use variables\n",
        "# that are globally defined.\n",
        "def send_from_P2PKH_transaction(amount_to_send, txid_to_spend, utxo_index, txout_scriptPubKey):\n",
        "    txin = CMutableTxIn(COutPoint(lx(txid_to_spend), utxo_index))\n",
        "    txout = CMutableTxOut(amount_to_send * COIN, CScript(txout_scriptPubKey))\n",
        "    tx = CMutableTransaction([txin], [txout])\n",
        "\n",
        "    txin_scriptPubKey = my_address.to_scriptPubKey()\n",
        "    signature = create_OP_CHECKSIG_signature(tx, txin_scriptPubKey, my_private_key);\n",
        "    txin.scriptSig = CScript([signature, my_public_key])\n",
        "    \n",
        "    VerifyScript(txin.scriptSig, txin_scriptPubKey, tx, 0, (SCRIPT_VERIFY_P2SH,))\n",
        "\n",
        "    return broadcast_transaction(tx)\n",
        "  \n",
        "######################################################################\n",
        "# TODO: set all these parameters correctly\n",
        "amount_to_send = 0.0005 #Do not forget the fee\n",
        "txid_to_spend = ('58d6e7f2cc881870b0adf94a163dde06c37cc489d184e72e389c53c5c0eb2528')\n",
        "utxo_index = 0\n",
        "txout_scriptPubKey = faucet_address.to_scriptPubKey() #[OP_DUP ....]\n",
        "######################################################################\n",
        "\n",
        "response = send_from_P2PKH_transaction(amount_to_send, txid_to_spend, utxo_index, txout_scriptPubKey)\n",
        "print(response.status_code, response.reason)\n",
        "print(response.text)"
      ],
      "execution_count": 0,
      "outputs": [
        {
          "output_type": "stream",
          "text": [
            "201 Created\n",
            "{\n",
            "  \"tx\": {\n",
            "    \"block_height\": -1,\n",
            "    \"block_index\": -1,\n",
            "    \"hash\": \"7d92b16ba15849517f8acd64527aa52fbfb8353a7836e15bdb55f2be26ca8185\",\n",
            "    \"addresses\": [\n",
            "      \"mpPD7cDGdyLLD8BkS18wW1Xwmp9w1cNEGE\",\n",
            "      \"2N4XgqsKhMPL4n6tJoPVGHPNEgsphWnXoFt\"\n",
            "    ],\n",
            "    \"total\": 50000,\n",
            "    \"fees\": 249999,\n",
            "    \"size\": 190,\n",
            "    \"preference\": \"high\",\n",
            "    \"relayed_by\": \"35.227.99.86\",\n",
            "    \"received\": \"2019-11-25T06:59:40.368248489Z\",\n",
            "    \"ver\": 1,\n",
            "    \"double_spend\": false,\n",
            "    \"vin_sz\": 1,\n",
            "    \"vout_sz\": 1,\n",
            "    \"confirmations\": 0,\n",
            "    \"inputs\": [\n",
            "      {\n",
            "        \"prev_hash\": \"58d6e7f2cc881870b0adf94a163dde06c37cc489d184e72e389c53c5c0eb2528\",\n",
            "        \"output_index\": 0,\n",
            "        \"script\": \"483045022100859c24fc66ce92378730b28628dfe7576426653e396b1968a1f3e9e3ef0f05b002204f51aa290a95fb4ff51be81ba22374e5b3f506d6bbcba6388e6ff6b3aa2140e70121029285c2c64cf75ba712860ff4a423607d428512fb084fbdae81d3d80f8ab8bdad\",\n",
            "        \"output_value\": 299999,\n",
            "        \"sequence\": 4294967295,\n",
            "        \"addresses\": [\n",
            "          \"mpPD7cDGdyLLD8BkS18wW1Xwmp9w1cNEGE\"\n",
            "        ],\n",
            "        \"script_type\": \"pay-to-pubkey-hash\",\n",
            "        \"age\": 0\n",
            "      }\n",
            "    ],\n",
            "    \"outputs\": [\n",
            "      {\n",
            "        \"value\": 50000,\n",
            "        \"script\": \"a9147bc674d3be81b7bfaec2db4006652a8dcdbaeace87\",\n",
            "        \"addresses\": [\n",
            "          \"2N4XgqsKhMPL4n6tJoPVGHPNEgsphWnXoFt\"\n",
            "        ],\n",
            "        \"script_type\": \"pay-to-script-hash\"\n",
            "      }\n",
            "    ]\n",
            "  }\n",
            "}\n"
          ],
          "name": "stdout"
        }
      ]
    },
    {
      "cell_type": "markdown",
      "metadata": {
        "id": "YRWw2BpGQiEM",
        "colab_type": "text"
      },
      "source": [
        "Now you know how to create a P2PKH transaction. "
      ]
    }
  ]
}